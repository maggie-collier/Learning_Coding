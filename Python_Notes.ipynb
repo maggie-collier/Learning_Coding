{
 "cells": [
  {
   "attachments": {},
   "cell_type": "markdown",
   "metadata": {},
   "source": [
    "# Codingbat Python Practice Problems\n",
    "\n",
    "## __Logic__\n",
    "\n",
    "### Caught_Speeding\n",
    "You are driving a little too fast, and a police officer stops you. Write code to compute the result, encoded as an int value: 0=no ticket, 1=small ticket, 2=big ticket. If speed is 60 or less, the result is 0. If speed is between 61 and 80 inclusive, the result is 1. If speed is 81 or more, the result is 2. Unless it is your birthday -- on that day, your speed can be 5 higher in all cases.\n",
    "\n",
    "#### Test Cases\n",
    "caught_speeding(60, False) → 0\n",
    "\n",
    "caught_speeding(65, False) → 1\n",
    "\n",
    "caught_speeding(65, True) → 0"
   ]
  },
  {
   "cell_type": "code",
   "execution_count": 74,
   "metadata": {},
   "outputs": [
    {
     "name": "stdout",
     "output_type": "stream",
     "text": [
      "0\n"
     ]
    }
   ],
   "source": [
    "def caught_speeding(speed, is_birthday):\n",
    "  if (speed <= 60) or (speed <= 65 and is_birthday):\n",
    "    return 0\n",
    "  if (61 <= speed <= 80):\n",
    "    return 1\n",
    "  elif (66 <= speed <= 85 and is_birthday):\n",
    "    return 1\n",
    "  if (speed >= 81):\n",
    "    return 2\n",
    "  elif (speed >= 86 and is_birthday):\n",
    "    return 2\n",
    "output = caught_speeding(60, False)\n",
    "print(output)"
   ]
  },
  {
   "attachments": {},
   "cell_type": "markdown",
   "metadata": {},
   "source": [
    "### Alarm_Clock\n",
    "\n",
    "Given a day of the week encoded as 0=Sun, 1=Mon, 2=Tue, ...6=Sat, and a boolean indicating if we are on vacation, return a string of the form \"7:00\" indicating when the alarm clock should ring. Weekdays, the alarm should be \"7:00\" and on the weekend it should be \"10:00\". Unless we are on vacation -- then on weekdays it should be \"10:00\" and weekends it should be \"off\".\n",
    "\n",
    "alarm_clock(1, False) → '7:00'\n",
    "\n",
    "alarm_clock(5, False) → '7:00'\n",
    "\n",
    "alarm_clock(0, False) → '10:00'"
   ]
  },
  {
   "cell_type": "code",
   "execution_count": 75,
   "metadata": {},
   "outputs": [
    {
     "name": "stdout",
     "output_type": "stream",
     "text": [
      "inside\n",
      "7:00\n"
     ]
    }
   ],
   "source": [
    "def alarm_clock(day, vacation):\n",
    "  print(\"inside\")\n",
    "  if ( vacation and ( day == 0 or day == 6 ) ):\n",
    "    return \"off\"\n",
    "  elif ( 1 <= day <= 5 and not vacation ):\n",
    "    return \"7:00\"\n",
    "  else:\n",
    "    return \"10:00\"\n",
    "\n",
    "output = alarm_clock(1, False)\n",
    "print(output)\n"
   ]
  },
  {
   "attachments": {},
   "cell_type": "markdown",
   "metadata": {},
   "source": [
    "### In1to10\n",
    "\n",
    "Given a number n, return True if n is in the range 1..10, inclusive. Unless outside_mode is True, in which case return True if the number is less or equal to 1, or greater or equal to 10.\n",
    "\n",
    "in1to10(5, False) → True\n",
    "\n",
    "in1to10(11, False) → False\n",
    "\n",
    "in1to10(11, True) → True"
   ]
  },
  {
   "cell_type": "code",
   "execution_count": 76,
   "metadata": {},
   "outputs": [
    {
     "name": "stdout",
     "output_type": "stream",
     "text": [
      "True\n"
     ]
    }
   ],
   "source": [
    "def in1to10(n, outside_mode):\n",
    "  if (n >= 1 and n <= 10) and not outside_mode:\n",
    "    return True\n",
    "  elif (n <= 1 or n >= 10) and outside_mode:\n",
    "    return True\n",
    "  else:\n",
    "    return False\n",
    "    \n",
    "output = in1to10(5, False)\n",
    "print(output)\n",
    "\n"
   ]
  },
  {
   "attachments": {},
   "cell_type": "markdown",
   "metadata": {},
   "source": [
    "### Make_Bricks\n",
    "\n",
    "We want to make a row of bricks that is goal inches long. We have a number of small bricks (1 inch each) and big bricks (5 inches each). Return True if it is possible to make the goal by choosing from the given bricks.\n",
    "\n",
    "make_bricks(3, 1, 8) → True\n",
    "\n",
    "make_bricks(3, 1, 9) → False\n",
    "\n",
    "make_bricks(3, 2, 10) → True"
   ]
  },
  {
   "cell_type": "code",
   "execution_count": 77,
   "metadata": {},
   "outputs": [
    {
     "name": "stdout",
     "output_type": "stream",
     "text": [
      "True\n"
     ]
    }
   ],
   "source": [
    "def make_bricks(small, big, goal):\n",
    "  return (goal % 5) <= small and (goal - (big*5)) <= small\n",
    "output = make_bricks(3, 1, 8)\n",
    "print(output)"
   ]
  },
  {
   "attachments": {},
   "cell_type": "markdown",
   "metadata": {},
   "source": [
    "### Lone_Sum\n",
    "\n",
    "Given 3 int values, a b c, return their sum. However, if one of the values is the same as another of the values, it does not count towards the sum.\n",
    "\n",
    "lone_sum(1, 2, 3) → 6\n",
    "\n",
    "lone_sum(3, 2, 3) → 2\n",
    "\n",
    "lone_sum(3, 3, 3) → 0"
   ]
  },
  {
   "cell_type": "code",
   "execution_count": 78,
   "metadata": {},
   "outputs": [
    {
     "name": "stdout",
     "output_type": "stream",
     "text": [
      "6\n"
     ]
    }
   ],
   "source": [
    "def lone_sum(a, b, c):\n",
    "  sum = 0\n",
    "  if a != b and a != c: sum += a\n",
    "  if b != a and b != c: sum += b\n",
    "  if c != a and c != b: sum += c\n",
    "  \n",
    "  return sum\n",
    "output = lone_sum(1, 2, 3)\n",
    "print(output)"
   ]
  },
  {
   "attachments": {},
   "cell_type": "markdown",
   "metadata": {},
   "source": [
    "### No_Teen_Sum\n",
    "\n",
    "Given 3 int values, a b c, return their sum. However, if any of the values is a teen -- in the range 13..19 inclusive -- then that value counts as 0, except 15 and 16 do not count as a teens. Write a separate helper \"def fix_teen(n):\"that takes in an int value and returns that value fixed for the teen rule. In this way, you avoid repeating the teen code 3 times (i.e. \"decomposition\"). Define the helper below and at the same indent level as the main no_teen_sum().\n",
    "\n",
    "no_teen_sum(1, 2, 3) → 6\n",
    "\n",
    "no_teen_sum(2, 13, 1) → 3\n",
    "\n",
    "no_teen_sum(2, 1, 14) → 3"
   ]
  },
  {
   "cell_type": "code",
   "execution_count": 79,
   "metadata": {},
   "outputs": [
    {
     "name": "stdout",
     "output_type": "stream",
     "text": [
      "6\n"
     ]
    }
   ],
   "source": [
    "def no_teen_sum(a, b, c):\n",
    "  sum = fix_teen(a)\n",
    "  sum += fix_teen(b)\n",
    "  sum += fix_teen(c)\n",
    "  return sum\n",
    "\n",
    "def fix_teen(n):\n",
    "  teen = 0\n",
    "  if n >= 13 and n <= 14 or n >= 17 and n <= 19:\n",
    "    teen = 0\n",
    "  else:\n",
    "    teen = n\n",
    "  return teen\n",
    "\n",
    "output = no_teen_sum(1, 2, 3)\n",
    "print(output)\n"
   ]
  },
  {
   "attachments": {},
   "cell_type": "markdown",
   "metadata": {},
   "source": [
    "### Round_Sum\n",
    "\n",
    "For this problem, we'll round an int value up to the next multiple of 10 if its rightmost digit is 5 or more, so 15 rounds up to 20. Alternately, round down to the previous multiple of 10 if its rightmost digit is less than 5, so 12 rounds down to 10. Given 3 ints, a b c, return the sum of their rounded values. To avoid code repetition, write a separate helper \"def round10(num):\" and call it 3 times. Write the helper entirely below and at the same indent level as round_sum().\n",
    "\n",
    "round_sum(16, 17, 18) → 60\n",
    "\n",
    "round_sum(12, 13, 14) → 30\n",
    "\n",
    "round_sum(6, 4, 4) → 10"
   ]
  },
  {
   "cell_type": "code",
   "execution_count": 80,
   "metadata": {},
   "outputs": [
    {
     "name": "stdout",
     "output_type": "stream",
     "text": [
      "60\n"
     ]
    }
   ],
   "source": [
    "def round_sum(a, b, c):\n",
    "  sum = round10(a)\n",
    "  sum += round10(b)\n",
    "  sum += round10(c)\n",
    "  return sum\n",
    "  \n",
    "def round10(num):\n",
    "  up = False\n",
    "  down = True\n",
    "  if num % 10 >= 5:\n",
    "    up = True\n",
    "  # if num % 10 < 5:\n",
    "  else:\n",
    "    down = True\n",
    "  if up:\n",
    "    return (num - (num % 10) + 10)\n",
    "  if down:\n",
    "    return (num - (num % 10))\n",
    "output = round_sum(16, 17, 18)\n",
    "print(output)"
   ]
  },
  {
   "attachments": {},
   "cell_type": "markdown",
   "metadata": {},
   "source": [
    "### Close_Far\n",
    "\n",
    "Given three ints, a b c, return True if one of b or c is \"close\" (differing from a by at most 1), while the other is \"far\", differing from both other values by 2 or more. Note: abs(num) computes the absolute value of a number.\n",
    "\n",
    "close_far(1, 2, 10) → True\n",
    "\n",
    "close_far(1, 2, 3) → False\n",
    "\n",
    "close_far(4, 1, 3) → True"
   ]
  },
  {
   "cell_type": "code",
   "execution_count": 81,
   "metadata": {},
   "outputs": [
    {
     "name": "stdout",
     "output_type": "stream",
     "text": [
      "True\n"
     ]
    }
   ],
   "source": [
    "def close_far(a, b, c):\n",
    "  close = False\n",
    "  far = False\n",
    "  if abs(b - a) <= 1 or abs(c - a) <= 1:\n",
    "    close = True\n",
    "  if (abs(b - a) >= 2 and abs(c - b) >= 2) or (abs(c - a) >= 2 and abs(c - b) >= 2):\n",
    "    far = True\n",
    "  return close and far\n",
    "\n",
    "output = close_far(1, 2, 10)\n",
    "print(output)"
   ]
  },
  {
   "attachments": {},
   "cell_type": "markdown",
   "metadata": {},
   "source": [
    "### Make_Chocolate\n",
    "\n",
    "We want make a package of goal kilos of chocolate. We have small bars (1 kilo each) and big bars (5 kilos each). Return the number of small bars to use, assuming we always use big bars before small bars. Return -1 if it can't be done.\n",
    "\n",
    "make_chocolate(4, 1, 9) → 4\n",
    "\n",
    "make_chocolate(4, 1, 10) → -1\n",
    "\n",
    "make_chocolate(4, 1, 7) → 2"
   ]
  },
  {
   "cell_type": "code",
   "execution_count": 82,
   "metadata": {},
   "outputs": [
    {
     "name": "stdout",
     "output_type": "stream",
     "text": [
      "4\n"
     ]
    }
   ],
   "source": [
    "def make_chocolate(small, big, goal):\n",
    "  if goal <= (big*5) + small:\n",
    "    if goal % 5 > small:\n",
    "      return -1\n",
    "    elif (big*5) > goal:\n",
    "      return (goal % 5)\n",
    "    else:\n",
    "      return goal - (big*5)\n",
    "  else:\n",
    "    return -1\n",
    "output = make_chocolate(4, 1, 9)\n",
    "print(output)"
   ]
  },
  {
   "attachments": {},
   "cell_type": "markdown",
   "metadata": {},
   "source": [
    "## __Strings__\n",
    "\n",
    "### Make_Tags\n",
    "\n",
    "The web is built with HTML strings like \"<i>Yay</i>\" which draws Yay as italic text. In this example, the \"i\" tag makes <i> and </i> which surround the word \"Yay\". Given tag and word strings, create the HTML string with tags around the word, e.g. \"<i>Yay</i>\".\n",
    "\n",
    "make_tags('i', 'Yay') → '<i>Yay</i>'\n",
    "\n",
    "make_tags('i', 'Hello') → '<i>Hello</i>'\n",
    "\n",
    "make_tags('cite', 'Yay') → '<cite>Yay</cite>'"
   ]
  },
  {
   "cell_type": "code",
   "execution_count": 83,
   "metadata": {},
   "outputs": [
    {
     "name": "stdout",
     "output_type": "stream",
     "text": [
      "<i>Yay</i>\n"
     ]
    }
   ],
   "source": [
    "def make_tags(tag, word):\n",
    "  # beginning = \"<tag>\"\n",
    "  # ending = \"</tag>\"\n",
    "  # return beginning + word + ending\n",
    "  return \"<\" + tag + \">\" + word + \"</\" + tag + \">\"\n",
    "output = make_tags('i', 'Yay')\n",
    "print(output)"
   ]
  },
  {
   "attachments": {},
   "cell_type": "markdown",
   "metadata": {},
   "source": [
    "### Make_Out_Word\n",
    "\n",
    "Given an \"out\" string length 4, such as \"<<>>\", and a word, return a new string where the word is in the middle of the out string, e.g. \"<<word>>\".\n",
    "\n",
    "make_out_word('<<>>', 'Yay') → '<<Yay>>'\n",
    "\n",
    "make_out_word('<<>>', 'WooHoo') → '<<WooHoo>>'\n",
    "\n",
    "make_out_word('[[]]', 'word') → '[[word]]'"
   ]
  },
  {
   "cell_type": "code",
   "execution_count": 84,
   "metadata": {},
   "outputs": [
    {
     "name": "stdout",
     "output_type": "stream",
     "text": [
      "<<Yay>>\n"
     ]
    }
   ],
   "source": [
    "def make_out_word(out, word):\n",
    "  front = \"\"\n",
    "  end = \"\"\n",
    "  \n",
    "  front = out[0:2]\n",
    "  end = out[2:4]\n",
    "  \n",
    "  return front + word + end\n",
    "  \n",
    "output = make_out_word('<<>>', 'Yay') \n",
    "print(output)\n"
   ]
  },
  {
   "attachments": {},
   "cell_type": "markdown",
   "metadata": {},
   "source": [
    "### Extra_End\n",
    "\n",
    "Given a string, return a new string made of 3 copies of the last 2 chars of the original string. The string length will be at least 2.\n",
    "\n",
    "extra_end('Hello') → 'lololo'\n",
    "\n",
    "extra_end('ab') → 'ababab'\n",
    "\n",
    "extra_end('Hi') → 'HiHiHi'"
   ]
  },
  {
   "cell_type": "code",
   "execution_count": 85,
   "metadata": {},
   "outputs": [
    {
     "name": "stdout",
     "output_type": "stream",
     "text": [
      "lololo\n"
     ]
    }
   ],
   "source": [
    "def extra_end(str):\n",
    "  last = \"\"\n",
    "  \n",
    "  if (len(str) < 2):\n",
    "    last = str\n",
    "  else:\n",
    "    last = str[len(str)-2:len(str)]\n",
    "  return last + last + last\n",
    "\n",
    "output = extra_end('Hello')\n",
    "print(output)"
   ]
  },
  {
   "attachments": {},
   "cell_type": "markdown",
   "metadata": {},
   "source": [
    "### Without_End\n",
    "\n",
    "Given a string, return a version without the first and last char, so \"Hello\" yields \"ell\". The string length will be at least 2.\n",
    "\n",
    "without_end('Hello') → 'ell'\n",
    "\n",
    "without_end('java') → 'av'\n",
    "\n",
    "without_end('coding') → 'odin'"
   ]
  },
  {
   "cell_type": "code",
   "execution_count": 86,
   "metadata": {},
   "outputs": [
    {
     "name": "stdout",
     "output_type": "stream",
     "text": [
      "ell\n"
     ]
    }
   ],
   "source": [
    "def without_end(str):\n",
    "  version = str[1:len(str)-1]\n",
    "  return version\n",
    "output = without_end('Hello')\n",
    "print(output)"
   ]
  },
  {
   "attachments": {},
   "cell_type": "markdown",
   "metadata": {},
   "source": [
    "### Combo_String\n",
    "\n",
    "Given 2 strings, a and b, return a string of the form short+long+short, with the shorter string on the outside and the longer string on the inside. The strings will not be the same length, but they may be empty (length 0).\n",
    "\n",
    "combo_string('Hello', 'hi') → 'hiHellohi'\n",
    "\n",
    "combo_string('hi', 'Hello') → 'hiHellohi'\n",
    "\n",
    "combo_string('aaa', 'b') → 'baaab'"
   ]
  },
  {
   "cell_type": "code",
   "execution_count": 87,
   "metadata": {},
   "outputs": [
    {
     "name": "stdout",
     "output_type": "stream",
     "text": [
      "hiHellohi\n"
     ]
    }
   ],
   "source": [
    "def combo_string(a, b):\n",
    "  # if (len(a) > len(b)):\n",
    "  #   return b + a + b\n",
    "  # else:\n",
    "  #   return a + b + a\n",
    "  return a + b + a if len(b) > len(a) else b + a + b\n",
    "output = combo_string('Hello', 'hi')\n",
    "print(output)"
   ]
  },
  {
   "attachments": {},
   "cell_type": "markdown",
   "metadata": {},
   "source": [
    "### Missing_Char\n",
    "\n",
    "Given a non-empty string and an int n, return a new string where the char at index n has been removed. The value of n will be a valid index of a char in the original string (i.e. n will be in the range 0..len(str)-1 inclusive).\n",
    "\n",
    "missing_char('kitten', 1) → 'ktten'\n",
    "\n",
    "missing_char('kitten', 0) → 'itten'\n",
    "\n",
    "missing_char('kitten', 4) → 'kittn'"
   ]
  },
  {
   "cell_type": "code",
   "execution_count": 88,
   "metadata": {},
   "outputs": [
    {
     "name": "stdout",
     "output_type": "stream",
     "text": [
      "ktten\n"
     ]
    }
   ],
   "source": [
    "def missing_char(str, n):\n",
    "  return str[0:n] + str[n + 1:len(str)]\n",
    "output = missing_char('kitten', 1)\n",
    "print(output)"
   ]
  },
  {
   "attachments": {},
   "cell_type": "markdown",
   "metadata": {},
   "source": [
    "### Front_Back\n",
    "\n",
    "Given a string, return a new string where the first and last chars have been exchanged.\n",
    "\n",
    "front_back('code') → 'eodc'\n",
    "\n",
    "front_back('a') → 'a'\n",
    "\n",
    "front_back('ab') → 'ba'"
   ]
  },
  {
   "cell_type": "code",
   "execution_count": 89,
   "metadata": {},
   "outputs": [
    {
     "name": "stdout",
     "output_type": "stream",
     "text": [
      "eodc\n"
     ]
    }
   ],
   "source": [
    "def front_back(str):\n",
    "  before = \"\"\n",
    "  middle = \"\"\n",
    "  after = \"\"\n",
    "\n",
    "  if (len(str) == 1):\n",
    "    before = str[0]\n",
    "  elif (len(str) == 2):\n",
    "    before = str[0]\n",
    "    after = str[1]\n",
    "  elif (len(str) != 0):\n",
    "    before = str[0]\n",
    "    middle = str[1:len(str)-1]\n",
    "    after = str[len(str)-1]\n",
    "    \n",
    "  return after + middle + before\n",
    "output = front_back('code')\n",
    "print(output)"
   ]
  },
  {
   "attachments": {},
   "cell_type": "markdown",
   "metadata": {},
   "source": [
    "### Double_Char\n",
    "\n",
    "Given a string, return a string where for every char in the original, there are two chars.\n",
    "\n",
    "double_char('The') → 'TThhee'\n",
    "\n",
    "double_char('AAbb') → 'AAAAbbbb'\n",
    "\n",
    "double_char('Hi-There') → 'HHii--TThheerree'"
   ]
  },
  {
   "cell_type": "code",
   "execution_count": 90,
   "metadata": {},
   "outputs": [
    {
     "name": "stdout",
     "output_type": "stream",
     "text": [
      "TThhee\n"
     ]
    }
   ],
   "source": [
    "def double_char(str):\n",
    "  a = \"\"\n",
    "  for i in str:\n",
    "    a += i + i\n",
    "  return a\n",
    "output = double_char('The')\n",
    "print(output)"
   ]
  },
  {
   "attachments": {},
   "cell_type": "markdown",
   "metadata": {},
   "source": [
    "### Count_Hi\n",
    "\n",
    "Return the number of times that the string \"hi\" appears anywhere in the given string.\n",
    "\n",
    "count_hi('abc hi ho') → 1\n",
    "\n",
    "count_hi('ABChi hi') → 2\n",
    "\n",
    "count_hi('hihi') → 2"
   ]
  },
  {
   "cell_type": "code",
   "execution_count": 91,
   "metadata": {},
   "outputs": [
    {
     "name": "stdout",
     "output_type": "stream",
     "text": [
      "1\n"
     ]
    }
   ],
   "source": [
    "def count_hi(str):\n",
    "  count = 0   \n",
    "  for i in range(len(str)):\n",
    "    if i < len(str) -1 :\n",
    "      if str[i] == \"h\" and str[i+1] == \"i\" :\n",
    "        count += 1\n",
    "  return count\n",
    "\n",
    "output = count_hi('abc hi ho')\n",
    "print(output)"
   ]
  },
  {
   "attachments": {},
   "cell_type": "markdown",
   "metadata": {},
   "source": [
    "### Cat_Dog\n",
    "\n",
    "Return True if the string \"cat\" and \"dog\" appear the same number of times in the given string.\n",
    "\n",
    "cat_dog('catdog') → True\n",
    "\n",
    "cat_dog('catcat') → False\n",
    "\n",
    "cat_dog('1cat1cadodog') → True"
   ]
  },
  {
   "cell_type": "code",
   "execution_count": 92,
   "metadata": {},
   "outputs": [
    {
     "name": "stdout",
     "output_type": "stream",
     "text": [
      "True\n"
     ]
    }
   ],
   "source": [
    "def cat_dog(str):\n",
    "  ## Loop to length-1 and access index i and i+1 and i+2 in the loop.\n",
    "  ccat = 0\n",
    "  cdog = 0\n",
    "  for i in range(len(str)-1):\n",
    "    if (str[i:i+3] == \"cat\"):\n",
    "      ccat += 1\n",
    "    if (str[i:i+3] == \"dog\"):\n",
    "      cdog += 1\n",
    "  return ccat == cdog\n",
    "\n",
    "output = cat_dog('catdog')\n",
    "print(output)"
   ]
  },
  {
   "attachments": {},
   "cell_type": "markdown",
   "metadata": {},
   "source": [
    "### Count_Code\n",
    "\n",
    "Return the number of times that the string \"code\" appears anywhere in the given string, except we'll accept any letter for the 'd', so \"cope\" and \"cooe\" count.\n",
    "\n",
    "count_code('aaacodebbb') → 1\n",
    "\n",
    "count_code('codexxcode') → 2\n",
    "\n",
    "count_code('cozexxcope') → 2"
   ]
  },
  {
   "cell_type": "code",
   "execution_count": 93,
   "metadata": {},
   "outputs": [
    {
     "name": "stdout",
     "output_type": "stream",
     "text": [
      "1\n"
     ]
    }
   ],
   "source": [
    "def count_code(str):\n",
    "  num = 0\n",
    "  for i in range(len(str)-3):\n",
    "    if i < len(str) -1 :\n",
    "      if (str[i:i+2] == \"co\") and (str[i+3] == \"e\"):\n",
    "        num += 1\n",
    "  return num\n",
    "\n",
    "output = count_code('aaacodebbb')\n",
    "print(output)"
   ]
  },
  {
   "attachments": {},
   "cell_type": "markdown",
   "metadata": {},
   "source": [
    "### End_Other\n",
    "\n",
    "Given two strings, return True if either of the strings appears at the very end of the other string, ignoring upper/lower case differences (in other words, the computation should not be \"case sensitive\"). Note: s.lower() returns the lowercase version of a string.\n",
    "\n",
    "end_other('Hiabc', 'abc') → True\n",
    "\n",
    "end_other('AbC', 'HiaBc') → True\n",
    "\n",
    "end_other('abc', 'abXabc') → True"
   ]
  },
  {
   "cell_type": "code",
   "execution_count": 94,
   "metadata": {},
   "outputs": [
    {
     "name": "stdout",
     "output_type": "stream",
     "text": [
      "True\n"
     ]
    }
   ],
   "source": [
    "def end_other(a, b):\n",
    "  a = a.lower()\n",
    "  b = b.lower()\n",
    "  al = len(a)\n",
    "  bl = len(b)\n",
    "  return a[al - bl:al] == b or b[bl - al:bl] == a\n",
    "# Their solution\n",
    "# def end_other(a, b):\n",
    "#   a = a.lower()\n",
    "#   b = b.lower()\n",
    "#   return (b.endswith(a) or a.endswith(b))\n",
    "output = end_other('Hiabc', 'abc')\n",
    "print(output)"
   ]
  },
  {
   "attachments": {},
   "cell_type": "markdown",
   "metadata": {},
   "source": [
    "### xyz_There\n",
    "\n",
    "Return True if the given string contains an appearance of \"xyz\" where the xyz is not directly preceeded by a period (.). So \"xxyz\" counts but \"x.xyz\" does not.\n",
    "\n",
    "xyz_there('abcxyz') → True\n",
    "\n",
    "xyz_there('abc.xyz') → False\n",
    "\n",
    "xyz_there('xyz.abc') → True"
   ]
  },
  {
   "cell_type": "code",
   "execution_count": 95,
   "metadata": {},
   "outputs": [
    {
     "name": "stdout",
     "output_type": "stream",
     "text": [
      "True\n"
     ]
    }
   ],
   "source": [
    "def xyz_there(str):\n",
    "  num = 0\n",
    "  for i in range(len(str)):\n",
    "      if (str[i:i+3] == \"xyz\") and not (str[i-1] == \".\"):\n",
    "        num += 1\n",
    "  return num > 0\n",
    "output = xyz_there('abcxyz')\n",
    "print(output)"
   ]
  },
  {
   "attachments": {},
   "cell_type": "markdown",
   "metadata": {},
   "source": [
    "### String_bits\n",
    "\n",
    "Given a string, return a new string made of every other char starting with the first, so \"Hello\" yields \"Hlo\".\n",
    "\n",
    "string_bits('Hello') → 'Hlo'\n",
    "\n",
    "string_bits('Hi') → 'H'\n",
    "\n",
    "string_bits('Heeololeo') → 'Hello'"
   ]
  },
  {
   "cell_type": "code",
   "execution_count": 96,
   "metadata": {},
   "outputs": [
    {
     "name": "stdout",
     "output_type": "stream",
     "text": [
      "Hlo\n"
     ]
    }
   ],
   "source": [
    "def string_bits(str):\n",
    "  a = \"\"\n",
    "  for i in range(len(str)):\n",
    "    if (i % 2 == 0):\n",
    "      a += str[i]\n",
    "    # a += str[i] - str[i+1]\n",
    "  return a\n",
    "\n",
    "output = string_bits('Hello')\n",
    "print(output)"
   ]
  },
  {
   "attachments": {},
   "cell_type": "markdown",
   "metadata": {},
   "source": [
    "### String_Splosion\n",
    "\n",
    "Given a non-empty string like \"Code\" return a string like \"CCoCodCode\".\n",
    "\n",
    "string_splosion('Code') → 'CCoCodCode'\n",
    "\n",
    "string_splosion('abc') → 'aababc'\n",
    "\n",
    "string_splosion('ab') → 'aab'"
   ]
  },
  {
   "cell_type": "code",
   "execution_count": 97,
   "metadata": {},
   "outputs": [
    {
     "name": "stdout",
     "output_type": "stream",
     "text": [
      "CCoCodCode\n"
     ]
    }
   ],
   "source": [
    "def string_splosion(str):\n",
    "  a = \"\"\n",
    "  for i, s in enumerate(str):\n",
    "    a += str[0:i]\n",
    "  return a + str\n",
    "output = string_splosion('Code')\n",
    "print(output)"
   ]
  },
  {
   "attachments": {},
   "cell_type": "markdown",
   "metadata": {},
   "source": [
    "### Last_2\n",
    "\n",
    "Given a string, return the count of the number of times that a substring length 2 appears in the string and also as the last 2 chars of the string, so \"hixxxhi\" yields 1 (we won't count the end substring).\n",
    "\n",
    "last2('hixxhi') → 1\n",
    "\n",
    "last2('xaxxaxaxx') → 1\n",
    "\n",
    "last2('axxxaaxx') → 2"
   ]
  },
  {
   "cell_type": "code",
   "execution_count": 98,
   "metadata": {},
   "outputs": [
    {
     "name": "stdout",
     "output_type": "stream",
     "text": [
      "1\n"
     ]
    }
   ],
   "source": [
    "def last2(str):\n",
    "  count = 0\n",
    "  for i in range(len(str)):\n",
    "    if i < len(str) -1 :\n",
    "      if str[i-1 : i+1] == str[len(str)-2 : len(str)] :\n",
    "        count += 1\n",
    "  return count\n",
    "output = last2('hixxxhi')\n",
    "print(output)"
   ]
  },
  {
   "attachments": {},
   "cell_type": "markdown",
   "metadata": {},
   "source": [
    "### String_Match\n",
    "\n",
    "Given 2 strings, a and b, return the number of the positions where they contain the same length 2 substring. So \"xxcaazz\" and \"xxbaaz\" yields 3, since the \"xx\", \"aa\", and \"az\" substrings appear in the same place in both strings.\n",
    "\n",
    "string_match('xxcaazz', 'xxbaaz') → 3\n",
    "\n",
    "string_match('abc', 'abc') → 2\n",
    "\n",
    "string_match('abc', 'axc') → 0"
   ]
  },
  {
   "cell_type": "code",
   "execution_count": 99,
   "metadata": {},
   "outputs": [
    {
     "name": "stdout",
     "output_type": "stream",
     "text": [
      "3\n"
     ]
    }
   ],
   "source": [
    "def string_match(a, b):\n",
    "  count = 0\n",
    "  for i in range(len(a)-1):\n",
    "    if (a[i : i+2] == b[i : i+2]):\n",
    "      count += 1\n",
    "  return count\n",
    "output = string_match('xxcaazz', 'xxbaaz')\n",
    "print(output)"
   ]
  },
  {
   "attachments": {},
   "cell_type": "markdown",
   "metadata": {},
   "source": [
    "## __List__\n",
    "\n",
    "### Same_First_Last\n",
    "\n",
    "Given an array of ints, return True if the array is length 1 or more, and the first element and the last element are equal.\n",
    "\n",
    "same_first_last([1, 2, 3]) → False\n",
    "\n",
    "same_first_last([1, 2, 3, 1]) → True\n",
    "\n",
    "same_first_last([1, 2, 1]) → True"
   ]
  },
  {
   "cell_type": "code",
   "execution_count": 100,
   "metadata": {},
   "outputs": [
    {
     "name": "stdout",
     "output_type": "stream",
     "text": [
      "False\n"
     ]
    }
   ],
   "source": [
    "def same_first_last(nums):\n",
    "  return len(nums) >= 1 and nums[0] == nums[len(nums)-1]\n",
    "output = same_first_last([1, 2, 3])\n",
    "print(output)"
   ]
  },
  {
   "attachments": {},
   "cell_type": "markdown",
   "metadata": {},
   "source": [
    "### Common_end\n",
    "\n",
    "Given 2 arrays of ints, a and b, return True if they have the same first element or they have the same last element. Both arrays will be length 1 or more.\n",
    "\n",
    "common_end([1, 2, 3], [7, 3]) → True\n",
    "\n",
    "common_end([1, 2, 3], [7, 3, 2]) → False\n",
    "\n",
    "common_end([1, 2, 3], [1, 3]) → True"
   ]
  },
  {
   "cell_type": "code",
   "execution_count": 101,
   "metadata": {},
   "outputs": [
    {
     "name": "stdout",
     "output_type": "stream",
     "text": [
      "True\n"
     ]
    }
   ],
   "source": [
    "def common_end(a, b):\n",
    "  return a[0] == b[0] or a[-1] == b[-1]\n",
    "  #python can do negative indices\n",
    "output = common_end([1, 2, 3], [7, 3])\n",
    "print(output)"
   ]
  },
  {
   "attachments": {},
   "cell_type": "markdown",
   "metadata": {},
   "source": [
    "### Max_end3\n",
    "\n",
    "Given an array of ints length 3, figure out which is larger, the first or last element in the array, and set all the other elements to be that value. Return the changed array.\n",
    "\n",
    "max_end3([1, 2, 3]) → [3, 3, 3]\n",
    "\n",
    "max_end3([11, 5, 9]) → [11, 11, 11]\n",
    "\n",
    "max_end3([2, 11, 3]) → [3, 3, 3]"
   ]
  },
  {
   "cell_type": "code",
   "execution_count": 102,
   "metadata": {},
   "outputs": [
    {
     "name": "stdout",
     "output_type": "stream",
     "text": [
      "[3, 3, 3]\n"
     ]
    }
   ],
   "source": [
    "def max_end3(nums):\n",
    "  if nums[0] > nums[2]:\n",
    "    return [nums[0] , nums[0] , nums[0]]\n",
    "  else:\n",
    "    return [nums[2] , nums[2] , nums[2]]\n",
    "\n",
    "output = max_end3([1, 2, 3])\n",
    "print(output)"
   ]
  },
  {
   "attachments": {},
   "cell_type": "markdown",
   "metadata": {},
   "source": [
    "### Has23\n",
    "\n",
    "Given an int array length 2, return True if it contains a 2 or a 3.\n",
    "\n",
    "has23([2, 5]) → True\n",
    "\n",
    "has23([4, 3]) → True\n",
    "\n",
    "has23([4, 5]) → False"
   ]
  },
  {
   "cell_type": "code",
   "execution_count": 103,
   "metadata": {},
   "outputs": [
    {
     "name": "stdout",
     "output_type": "stream",
     "text": [
      "True\n"
     ]
    }
   ],
   "source": [
    "def has23(nums):\n",
    "  return 2 in nums or 3 in nums\n",
    "output = has23([2, 5])\n",
    "print(output)"
   ]
  },
  {
   "attachments": {},
   "cell_type": "markdown",
   "metadata": {},
   "source": [
    "### Array_Count9\n",
    "\n",
    "Given an array of ints, return the number of 9's in the array.\n",
    "\n",
    "array_count9([1, 2, 9]) → 1\n",
    "\n",
    "array_count9([1, 9, 9]) → 2\n",
    "\n",
    "array_count9([1, 9, 9, 3, 9]) → 3"
   ]
  },
  {
   "cell_type": "code",
   "execution_count": 104,
   "metadata": {},
   "outputs": [
    {
     "name": "stdout",
     "output_type": "stream",
     "text": [
      "1\n"
     ]
    }
   ],
   "source": [
    "def array_count9(nums):\n",
    "  count = 0\n",
    "  for i in range(len(nums)):\n",
    "    if nums[i] == 9:\n",
    "      count += 1\n",
    "  return count\n",
    "output = array_count9([1, 2, 9])\n",
    "print(output)"
   ]
  },
  {
   "attachments": {},
   "cell_type": "markdown",
   "metadata": {},
   "source": [
    "### Array123\n",
    "\n",
    "Given an array of ints, return True if the sequence of numbers 1, 2, 3 appears in the array somewhere.\n",
    "\n",
    "array123([1, 1, 2, 3, 1]) → True\n",
    "\n",
    "array123([1, 1, 2, 4, 1]) → False\n",
    "\n",
    "array123([1, 1, 2, 1, 2, 3]) → True"
   ]
  },
  {
   "cell_type": "code",
   "execution_count": 105,
   "metadata": {},
   "outputs": [
    {
     "name": "stdout",
     "output_type": "stream",
     "text": [
      "True\n"
     ]
    }
   ],
   "source": [
    "def array123(nums):\n",
    "  for i in range(len(nums)):\n",
    "   if i < len(nums) - 2 :\n",
    "    if nums[i] == 1 and nums[i+1] == 2 and nums[i+2] == 3 :\n",
    "      return True\n",
    "  else:\n",
    "      return False\n",
    "output = array123([1, 1, 2, 3, 1])\n",
    "print(output)"
   ]
  },
  {
   "attachments": {},
   "cell_type": "markdown",
   "metadata": {},
   "source": [
    "### Big_Diff\n",
    "\n",
    "Given an array length 1 or more of ints, return the difference between the largest and smallest values in the array. Note: the built-in min(v1, v2) and max(v1, v2) functions return the smaller or larger of two values.\n",
    "\n",
    "big_diff([10, 3, 5, 6]) → 7\n",
    "\n",
    "big_diff([7, 2, 10, 9]) → 8\n",
    "\n",
    "big_diff([2, 10, 7, 2]) → 8"
   ]
  },
  {
   "cell_type": "code",
   "execution_count": 106,
   "metadata": {},
   "outputs": [
    {
     "name": "stdout",
     "output_type": "stream",
     "text": [
      "7\n"
     ]
    }
   ],
   "source": [
    "def big_diff(nums):\n",
    "  largest = nums[0]\n",
    "  smallest = nums[0]\n",
    "  # for i, num in enumerate(nums):\n",
    "  for num in nums:\n",
    "    # if i < len(nums)-1 :\n",
    "    #   largest = max(num, nums[i + 1])\n",
    "    #   smallest = min(num, nums[i + 1])\n",
    "      if num > largest: \n",
    "        largest = num\n",
    "      if num < smallest: \n",
    "        smallest = num\n",
    "  return largest - smallest\n",
    "output = big_diff([10, 3, 5, 6])\n",
    "print(output)"
   ]
  },
  {
   "attachments": {},
   "cell_type": "markdown",
   "metadata": {},
   "source": [
    "### Centered_Average\n",
    "\n",
    "Return the \"centered\" average of an array of ints, which we'll say is the mean average of the values, except ignoring the largest and smallest values in the array. If there are multiple copies of the smallest value, ignore just one copy, and likewise for the largest value. Use int division to produce the final average. You may assume that the array is length 3 or more.\n",
    "\n",
    "centered_average([1, 2, 3, 4, 100]) → 3\n",
    "\n",
    "centered_average([1, 1, 5, 5, 10, 8, 7]) → 5\n",
    "\n",
    "centered_average([-10, -4, -2, -4, -2, 0]) → -3"
   ]
  },
  {
   "cell_type": "code",
   "execution_count": 107,
   "metadata": {},
   "outputs": [
    {
     "name": "stdout",
     "output_type": "stream",
     "text": [
      "3.0\n"
     ]
    }
   ],
   "source": [
    "def centered_average(nums):\n",
    "  large = nums[0]\n",
    "  small = nums[0]\n",
    "  avg = 0\n",
    "  for i, num in enumerate(nums):\n",
    "    if num > large:\n",
    "      large = num\n",
    "    if num < small:\n",
    "      small = num\n",
    "    avg += num\n",
    "  return (avg - large - small) / (len(nums)-2)\n",
    "output = centered_average([1, 2, 3, 4, 100])\n",
    "print(output)"
   ]
  },
  {
   "attachments": {},
   "cell_type": "markdown",
   "metadata": {},
   "source": [
    "### Sum13\n",
    "\n",
    "Return the sum of the numbers in the array, returning 0 for an empty array. Except the number 13 is very unlucky, so it does not count and numbers that come immediately after a 13 also do not count.\n",
    "\n",
    "sum13([1, 2, 2, 1]) → 6\n",
    "\n",
    "sum13([1, 1]) → 2\n",
    "\n",
    "sum13([1, 2, 2, 1, 13]) → 6"
   ]
  },
  {
   "cell_type": "code",
   "execution_count": 108,
   "metadata": {},
   "outputs": [
    {
     "name": "stdout",
     "output_type": "stream",
     "text": [
      "6\n"
     ]
    }
   ],
   "source": [
    "def sum13(nums):\n",
    "  total = 0\n",
    "  prev_13 = False\n",
    "  for i in range(len(nums)):\n",
    "    if nums[i] != 13 and not prev_13:\n",
    "      total += nums[i]\n",
    "    elif nums[i] != 13 and prev_13:\n",
    "      prev_13 = False\n",
    "    else:\n",
    "      prev_13 = True\n",
    "  return total\n",
    "output = sum13([1, 2, 2, 1])\n",
    "print(output)"
   ]
  },
  {
   "attachments": {},
   "cell_type": "markdown",
   "metadata": {},
   "source": [
    "### Sum67\n",
    "\n",
    "Return the sum of the numbers in the array, except ignore sections of numbers starting with a 6 and extending to the next 7 (every 6 will be followed by at least one 7). Return 0 for no numbers.\n",
    "\n",
    "sum67([1, 2, 2]) → 5\n",
    "\n",
    "sum67([1, 2, 2, 6, 99, 99, 7]) → 5\n",
    "\n",
    "sum67([1, 1, 6, 7, 2]) → 4"
   ]
  },
  {
   "cell_type": "code",
   "execution_count": 109,
   "metadata": {},
   "outputs": [
    {
     "name": "stdout",
     "output_type": "stream",
     "text": [
      "5\n"
     ]
    }
   ],
   "source": [
    "def sum67(nums):\n",
    "  total = 0\n",
    "  section = False\n",
    "  for i in range(len(nums)):\n",
    "    if nums[i] != 6 and not section:\n",
    "      total += nums[i]\n",
    "    elif nums[i] == 6:\n",
    "      section = True\n",
    "    elif nums[i] == 7 and section:\n",
    "      section = False\n",
    "  return total\n",
    "output = sum67([1, 2, 2])\n",
    "print(output)"
   ]
  }
 ],
 "metadata": {
  "kernelspec": {
   "display_name": "Python 3",
   "language": "python",
   "name": "python3"
  },
  "language_info": {
   "codemirror_mode": {
    "name": "ipython",
    "version": 3
   },
   "file_extension": ".py",
   "mimetype": "text/x-python",
   "name": "python",
   "nbconvert_exporter": "python",
   "pygments_lexer": "ipython3",
   "version": "3.11.1"
  },
  "orig_nbformat": 4,
  "vscode": {
   "interpreter": {
    "hash": "b9d75e669311a45492eac984a3bbcc58bf83853c6ff0ab863ff2c1ef519cdfc3"
   }
  }
 },
 "nbformat": 4,
 "nbformat_minor": 2
}
