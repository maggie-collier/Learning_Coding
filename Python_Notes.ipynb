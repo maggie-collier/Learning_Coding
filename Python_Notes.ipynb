{
 "cells": [
  {
   "cell_type": "code",
   "execution_count": 2,
   "metadata": {},
   "outputs": [
    {
     "name": "stdout",
     "output_type": "stream",
     "text": [
      "hi\n"
     ]
    }
   ],
   "source": [
    "print(\"hi\")\n",
    "test = 0"
   ]
  },
  {
   "attachments": {},
   "cell_type": "markdown",
   "metadata": {},
   "source": [
    "HI I LOVE MY HUSBAND SOOOO MUCH\n",
    "\n",
    "\n",
    "* dog\n",
    "* cat\n",
    "\n",
    "- hi\n",
    "- bye\n",
    "\n",
    "1\n",
    "2\n",
    "3\n",
    "4\n",
    "\n",
    "# Title\n",
    "## Subtitle\n",
    "### Heading\n",
    "#### Word"
   ]
  },
  {
   "cell_type": "code",
   "execution_count": 3,
   "metadata": {},
   "outputs": [
    {
     "name": "stdout",
     "output_type": "stream",
     "text": [
      "0\n"
     ]
    }
   ],
   "source": [
    "print(test)\n"
   ]
  },
  {
   "cell_type": "code",
   "execution_count": null,
   "metadata": {},
   "outputs": [],
   "source": []
  }
 ],
 "metadata": {
  "kernelspec": {
   "display_name": "Python 3",
   "language": "python",
   "name": "python3"
  },
  "language_info": {
   "codemirror_mode": {
    "name": "ipython",
    "version": 3
   },
   "file_extension": ".py",
   "mimetype": "text/x-python",
   "name": "python",
   "nbconvert_exporter": "python",
   "pygments_lexer": "ipython3",
   "version": "3.11.1"
  },
  "orig_nbformat": 4,
  "vscode": {
   "interpreter": {
    "hash": "b9d75e669311a45492eac984a3bbcc58bf83853c6ff0ab863ff2c1ef519cdfc3"
   }
  }
 },
 "nbformat": 4,
 "nbformat_minor": 2
}
